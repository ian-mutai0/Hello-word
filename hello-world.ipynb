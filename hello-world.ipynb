Hello, world!
This is my working space
Welcome to my world 


Here we are just trying out new concepts
really fun
Next stop is remote repositories
And how to link the local to the remote repositories